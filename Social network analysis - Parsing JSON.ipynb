{
 "cells": [
  {
   "cell_type": "markdown",
   "metadata": {},
   "source": [
    "# Import text from the JSON file"
   ]
  },
  {
   "cell_type": "code",
   "execution_count": 62,
   "metadata": {},
   "outputs": [],
   "source": [
    "import json \n",
    "import pandas as pd"
   ]
  },
  {
   "cell_type": "code",
   "execution_count": 44,
   "metadata": {},
   "outputs": [],
   "source": [
    "with open(\"#add your own path\") as f:\n",
    "    discussions = json.load(f)"
   ]
  },
  {
   "cell_type": "code",
   "execution_count": 64,
   "metadata": {},
   "outputs": [
    {
     "name": "stdout",
     "output_type": "stream",
     "text": [
      "[('Shu-Yi', None), ('Shu-Yi', None), ('Shu-Yi', None), ('Shu-Yi', None), ('Shu-Yi', 'tierneyjyoung'), ('tierneyjyoung', 'Shu-Yi'), ('Shu-Yi', 'tierneyjyoung'), ('tierneyjyoung', 'Shu-Yi'), ('Shu-Yi', 'tierneyjyoung'), ('tierneyjyoung', 'Shu-Yi'), ('Shu-Yi', 'DR_Darnell'), ('DR_Darnell', 'Shu-Yi'), ('Shu-Yi', 'allan 5050'), ('allan 5050', 'Shu-Yi'), ('Shu-Yi', 'allan 5050'), ('EAnubhavR', None), ('TeeJac', None), ('TeeJac', 'Sanket Nawale'), ('RickJutte', None), ('FurqanT', None), ('IsaacGutierrezDiaz', None), ('AmiraObeid', None), ('AmiraObeid', 'shilpa9g'), ('shilpa9g', 'AmiraObeid'), ('khushboo_choudhary', None), ('khushboo_choudhary', 'khushboo_choudhary'), ('khushboo_choudhary', 'gabergum'), ('priyochat', None), ('aaronmcc1231', None), ('Youheiell', None), ('Youheiell', 'hamedanizad_a_h'), ('hamedanizad_a_h', None), ('hamedanizad_a_h', 'ashirwadsangwan'), ('ashirwadsangwan', 'Sanket Nawale'), ('Sanket Nawale', 'ashirwadsangwan'), ('ashirwadsangwan', 'Sanket Nawale'), ('aaronmcc1231', None), ('aaronmcc1231', 'quarcoopome-junior_t'), ('Tyler Franklin', None), ('Tyler Franklin', 'shilpa9g'), ('Mbiagbor', None), ('shilpa9g', None), ('Mbiagbor', None), ('Mbiagbor', 'djeastley'), ('aaronmcc1231', None), ('kiulam', None), ('kiulam', 'burcukepsutlu'), ('burcukepsutlu', 'victor_osorio_paris'), ('kiulam', 'djeastley'), ('kiulam', 'Gianluca73'), ('kiulam', 'Tanvi Hisaria'), ('LUIGGI_TH', None), ('PatrickMuradaz', None), ('Ninukes', None), ('romnenko', None), ('romnenko', 'djeastley'), ('djeastley', 'romnenko'), ('romnenko', 'Juan_M_Arias'), ('Juan_M_Arias', 'romnenko'), ('BrianMutandavari', None), ('PatrickMuradaz', None), ('PatrickMuradaz', 'Mori_Benjamin'), ('arossi63', None), ('PatrickMuradaz', None), ('GeorgeLee007', None), ('pfonsecav', None), ('pfonsecav', 'ashirwadsangwan'), ('ashirwadsangwan', 'pfonsecav'), ('Arybay', None), ('Arybay', 'Oluwachidi'), ('Rfga77', None), ('Kraisorna', None), ('Rawat1985', None), ('rcpasionjr', None), ('abhinav_adhikary', None), ('janavgar', None), ('djeastley', None), ('AmiraObeid', None), ('AmiraObeid', None), ('Makho4ba7', None), ('Gianluca73', None), ('jeblad2', None), ('Mori_Benjamin', None), ('Mori_Benjamin', 'Mark Harrell'), ('Mark Harrell', 'Mori_Benjamin'), ('johnmatsdi', None), ('aid3nclark', None), ('pfonsecav', None), ('pfonsecav', 'AmiraObeid'), ('pfonsecav', 'victor_osorio_paris'), ('Makho4ba7', None), ('fabianwidyadri', None), ('sravaniduddukuru', None), ('sravaniduddukuru', 'suhashbikkina'), ('sravaniduddukuru', 'gaurav_melkani'), ('nuno_ruivo', None), ('nuno_ruivo', 'fer_goldbach'), ('sukhyani143_2', None), ('igopepra', None), ('burricks', None), ('burricks', 'dennis39784'), ('victor_osorio_paris', None), ('victor_osorio_paris', 'Ashvin'), ('rrocy', None), ('AdejohIdoko', None), ('AdejohIdoko', 'Oluwachidi'), ('Sanatech69', None), ('Sanatech69', None), ('tierneyjyoung', None), ('cogitovelox', None), ('cogitovelox', 'Shu-Yi'), ('Shu-Yi', 'cogitovelox'), ('yk_david', None), ('yk_david', 'suhashbikkina'), ('yk_david', 'shivendr7'), ('suhashbikkina', None), ('RM1989', None), ('Nelson_Lee', None), ('Nelson_Lee', 'Juan_M_Arias'), ('JulienVM', None), ('JulienVM', 'GeorgeLee007'), ('JulienVM', 'Juan_M_Arias'), ('JulienVM', 'LUIGGI_TH'), ('TTyler97', None), ('TTyler97', 'shivendr7'), ('TTyler97', 'Juan_M_Arias'), ('Juan_M_Arias', 'TTyler97'), ('shivendr7', None), ('shivendr7', 'GeorgeLee007'), ('GeorgeLee007', 'shivendr7'), ('GeorgeLee007', None), ('canhuzmeli', None), ('canhuzmeli', 'canhuzmeli'), ('canhuzmeli', 'allan 5050'), ('igopepra', None), ('igopepra', 'Ashvin'), ('Ashvin', 'igopepra'), ('igopepra', 'Ashvin'), ('Ashvin', 'n_dekerpel'), ('Juan_M_Arias', None), ('Juan_M_Arias', 'vidya__patil'), ('Juan_M_Arias', None), ('Juan_M_Arias', 'RBBACKAL'), ('Mori_Benjamin', None), ('Mori_Benjamin', 'RBBACKAL'), ('RBBACKAL', 'Mori_Benjamin'), ('n_dekerpel', None), ('Rameshatedx', None), ('Rameshatedx', 'allan 5050'), ('n_dekerpel', None), ('Mori_Benjamin', None), ('Mori_Benjamin', 'p_george'), ('omkarsen', None), ('LeoRevilo', None), ('victor_osorio_paris', None), ('gracejblack', None), ('gracejblack', 'qwong5'), ('gracejblack', 'ChandraSekharGhoshDastidar'), ('Galexia_1729', None), ('qub1t', None), ('Mark Harrell', None), ('Mark Harrell', None), ('Mark Harrell', 'allan 5050'), ('Juan_M_Arias', None), ('Juan_M_Arias', None), ('MariaMingallon', None), ('brianlam123456', None), ('brianlam123456', None), ('malghamdi1995', None), ('malghamdi1995', 'RBBACKAL'), ('Makho4ba7', None), ('David_Terol', None), ('Maureen_E', None), ('Maureen_E', 'jmelotte'), ('BeatriceHoang', None), ('BeatriceHoang', 'dsaifan'), ('sukhyani143_2', None), ('dennis39784', None), ('dennis39784', None), ('rcpasionjr', None), ('Makho4ba7', None), ('Olumuy', None), ('AmayaJhaver', None), ('AmayaJhaver', None), ('igopepra', None), ('igopepra', 'p_george'), ('p_george', 'igopepra'), ('burricks', None), ('burricks', 'Nicolae'), ('Nicolae', 'burricks'), ('AmayaJhaver', None), ('dsaifan', None), ('dsaifan', 'allan 5050'), ('canhuzmeli', None), ('canhuzmeli', 'p_george'), ('allan 5050', None), ('allan 5050', None), ('allan 5050', 'NoahPersaud'), ('allan 5050', None), ('David Gallagher', None), ('David Gallagher', 'Shu-Yi'), ('Shu-Yi', 'David Gallagher'), ('David Gallagher', 'Shu-Yi'), ('Pedro_Castillo552e', None), ('Pedro_Castillo552e', None), ('Pedro_Castillo552e', 'thbsousa10'), ('romnenko', None), ('asratzan', None), ('asratzan', 'Makho4ba7'), ('asratzan', 'Adam'), ('KyleCamden', None), ('JulienVM', None), ('JulienVM', 'M_kilicarslan'), ('neelraina420', None), ('neelraina420', None), ('neelraina420', 'thbsousa10'), ('shilpa9g', None), ('shilpa9g', 'igopepra'), ('igopepra', 'shilpa9g'), ('bmontaner', None), ('Rivao', None), ('Rivao', 'janavgar'), ('janavgar', 'Rivao'), ('thbsousa10', None), ('thbsousa10', None), ('thbsousa10', 'tierneyjyoung'), ('thbsousa10', None), ('thbsousa10', 'dominguesn'), ('dominguesn', 'thbsousa10'), ('thbsousa10', 'fer_goldbach'), ('koreindian', None), ('Aizhuli Gabb', None), ('Aizhuli Gabb', 'RBBACKAL'), ('Aizhuli Gabb', None), ('Aizhuli Gabb', 'RBBACKAL'), ('RM1989', None), ('shivendr7', None), ('igopepra', None), ('igopepra', 'canhuzmeli'), ('canhuzmeli', 'igopepra'), ('igopepra', 'canhuzmeli'), ('canhuzmeli', 'igopepra'), ('igopepra', 'Ashvin'), ('Ashvin', 'igopepra'), ('bsoo920', None), ('bsoo920', 'bsoo920'), ('victor_osorio_paris', None), ('JulienVM', None), ('JulienVM', 'JulienVM'), ('JulienVM', 'JulienVM'), ('JeffreyYau', None), ('JeffreyYau', 'tierneyjyoung'), ('JeffreyYau', None), ('JeffreyYau', 'JeffreyYau'), ('JeffreyYau', 'allan 5050'), ('allan 5050', 'allan 5050'), ('allan 5050', 'allan 5050'), ('PedroLimaSousa', None), ('PedroLimaSousa', 'Ashvin'), ('Ashvin', 'Juan_M_Arias'), ('Juan_M_Arias', 'Hari Danse'), ('rrocy', None), ('JeffreyYau', None), ('JeffreyYau', 'JeffreyYau'), ('Hemanth09_', None), ('Hemanth09_', 'Juan_M_Arias'), ('Hemanth09_', 'allan 5050'), ('p_george', None), ('p_george', 'Shu-Yi'), ('p_george', None), ('RLZZ', None), ('allan 5050', None), ('allan 5050', 'p_george'), ('p_george', 'allan 5050'), ('allan 5050', 'Ashvin'), ('Ashvin', 'allan 5050'), ('David Gallagher', None), ('agorodnev', None), ('JulienVM', None), ('allan 5050', None), ('allan 5050', 'Olumuy'), ('RLZZ', None), ('RLZZ', 'RLZZ'), ('Vipul-Goyal', None), ('allan 5050', None), ('David Gallagher', None), ('David Gallagher', 'David Gallagher'), ('David Gallagher', 'allan 5050'), ('SAI GANESH DOKALA', None), ('SAI GANESH DOKALA', 'allan 5050'), ('SAI GANESH DOKALA', None), ('fer_goldbach', None), ('fer_goldbach', 'JeffreyYau'), ('JeffreyYau', 'fer_goldbach'), ('fer_goldbach', 'JeffreyYau'), ('fer_goldbach', 'allan 5050'), ('allan 5050', 'fer_goldbach'), ('fer_goldbach', 'fer_goldbach'), ('fer_goldbach', 'SW26'), ('SW26', 'fer_goldbach'), ('fer_goldbach', 'SW26'), ('SW26', 'fer_goldbach'), ('fer_goldbach', 'Nicolae'), ('antonin_mercay', None), ('antonin_mercay', 'antonin_mercay'), ('malghamdi1995', None), ('malghamdi1995', None), ('malghamdi1995', 'DarrylBailes'), ('allan 5050', None), ('allan 5050', 'allan 5050'), ('bsoo920', None), ('mlfa03', None), ('mlfa03', 'kalianadias'), ('mlfa03', 'RBBACKAL'), ('p_george', None), ('allan 5050', None), ('antonin_mercay', None), ('antonin_mercay', 'Shu-Yi'), ('d joas', None), ('canhuzmeli', None), ('mlfa03', None), ('igopepra', None), ('natachatannous', None), ('natachatannous', 'RBBACKAL'), ('natachatannous', None), ('ValevDec', None), ('MandyL', None), ('p_george', None), ('p_george', 'Ashvin'), ('mbaig_bee16seecs', None), ('mbaig_bee16seecs', 'allan 5050'), ('allan 5050', 'allan 5050'), ('allan 5050', 'allan 5050'), ('allan 5050', 'allan 5050'), ('allan 5050', 'allan 5050'), ('allan 5050', 'allan 5050'), ('allan 5050', 'allan 5050'), ('allan 5050', 'mbaig_bee16seecs'), ('AmiraObeid', None), ('AmiraObeid', 'Shu-Yi'), ('Shu-Yi', 'AmiraObeid'), ('AmiraObeid', 'RBBACKAL'), ('AmiraObeid', None), ('canhuzmeli', None), ('PedroLimaSousa', None), ('PedroLimaSousa', 'canhuzmeli'), ('canhuzmeli', 'bsoo920'), ('bsoo920', 'mbaig_bee16seecs'), ('mbaig_bee16seecs', 'bsoo920'), ('bsoo920', 'canhuzmeli'), ('canhuzmeli', 'mbaig_bee16seecs'), ('allan 5050', None), ('allan 5050', 'Ashvin'), ('JulienVM', None), ('allan 5050', None), ('dblake417', None), ('dblake417', 'Agilulfe_Edme'), ('Ashvin', None), ('Ashvin', 'igopepra'), ('igopepra', 'Ashvin'), ('Ashvin', 'allan 5050'), ('Ashvin', 'RBBACKAL'), ('Mori_Benjamin', None), ('Mori_Benjamin', 'RBBACKAL'), ('allan 5050', None), ('allan 5050', 'rrocy'), ('allan 5050', 'omkarsen'), ('allan 5050', 'vidya__patil'), ('rrocy', None), ('fatemabasouny', None), ('fatemabasouny', 'RBBACKAL'), ('RBBACKAL', 'fatemabasouny'), ('fatemabasouny', 'RBBACKAL'), ('fatemabasouny', 'RBBACKAL'), ('fatemabasouny', 'MauricioAyllon'), ('jmelotte', None), ('andersala', None), ('andersala', 'JeffreyYau'), ('RBBACKAL', None), ('RBBACKAL', 'RBBACKAL'), ('RBBACKAL', 'RBBACKAL'), ('allan 5050', None), ('allan 5050', 'JeffreyYau'), ('JeffreyYau', 'allan 5050'), ('allan 5050', 'JeffreyYau'), ('tierneyjyoung', None), ('tierneyjyoung', 'omkarsen'), ('tierneyjyoung', None), ('tierneyjyoung', None), ('tierneyjyoung', 'liao_sinying'), ('tierneyjyoung', None), ('tierneyjyoung', 'JeffreyYau'), ('tierneyjyoung', 'Sanatech69'), ('Esteban_MC_92', None), ('p_george', None), ('p_george', 'Adam'), ('p_george', 'allan 5050'), ('p_george', 'igopepra'), ('p_george', None), ('p_george', 'JeffreyYau'), ('MariaMingallon', None), ('MariaMingallon', 'JeffreyYau'), ('JeffreyYau', 'MariaMingallon'), ('MariaMingallon', 'JeffreyYau'), ('JeffreyYau', 'MariaMingallon'), ('MariaMingallon', 'JeffreyYau'), ('JeffreyYau', 'MariaMingallon'), ('Agilulfe_Edme', None), ('Agilulfe_Edme', 'allan 5050'), ('allan 5050', 'Agilulfe_Edme'), ('Agilulfe_Edme', 'Ashvin'), ('allan 5050', None), ('allan 5050', 'JeffreyYau'), ('JeffreyYau', 'allan 5050'), ('allan 5050', 'JeffreyYau'), ('JeffreyYau', 'allan 5050'), ('allan 5050', 'allan 5050'), ('allan 5050', 'allan 5050'), ('allan 5050', 'JeffreyYau'), ('JeffreyYau', 'allan 5050'), ('Zil Fang', None), ('Zil Fang', 'allan 5050'), ('rcl920', None), ('Joowon', None), ('burricks', None), ('tierneyjyoung', None), ('natachatannous', None), ('natachatannous', 'Victolt'), ('natachatannous', 'liao_sinying'), ('rrocy', None), ('rrocy', 'JeffreyYau'), ('JeffreyYau', 'rrocy'), ('d joas', None), ('d joas', 'p_george'), ('Alua12345', None), ('Alua12345', 'Olumuy'), ('burricks', None), ('burricks', 'jdpx20'), ('burricks', 'allan 5050'), ('arturo_melo7fd4', None), ('arturo_melo7fd4', 'allan 5050'), ('arturo_melo7fd4', 'Nicolae'), ('arturo_melo7fd4', None), ('arturo_melo7fd4', 'arturo_melo7fd4'), ('David Gallagher', None), ('fer_goldbach', None), ('fer_goldbach', 'andersala'), ('Vipul-Goyal', None), ('AmiraObeid', None), ('AmiraObeid', 'allan 5050'), ('allan 5050', 'Shu-Yi'), ('AmiraObeid', 'AmiraObeid'), ('RLZZ', None), ('RLZZ', 'allan 5050'), ('allan 5050', 'RLZZ'), ('RLZZ', 'allan 5050'), ('allan 5050', None), ('fer_goldbach', None), ('HusseinBarakat89', None), ('Victolt', None), ('Victolt', 'Shu-Yi'), ('Shu-Yi', 'Victolt'), ('Hari Danse', None), ('Hari Danse', 'ceyhund'), ('sumi-2019', None), ('MadMats', None), ('Carlosf822', None), ('Carlosf822', 'Carlosf822'), ('hiteshbalapanuru', None), ('PatrickMuradaz', None), ('sumi-2019', None), ('Eva Tao', None), ('Eva Tao', 'PatrickMuradaz'), ('Eva Tao', 'AmiraObeid'), ('Eva Tao', 'Levis91'), ('Eva Tao', 'salonichouhan56185'), ('Eva Tao', 'Sanatech69'), ('Eva Tao', 'MariaMingallon'), ('allan 5050', None), ('shilpa9g', None), ('john smith', None), ('igopepra', None), ('allan 5050', None), ('p_george', None), ('p_george', 'JeffreyYau'), ('JeffreyYau', 'p_george'), ('benh07', None), ('benh07', 'bsoo920'), ('sumi-2019', None), ('musiclit', None), ('musiclit', 'Adam'), ('allan 5050', None), ('allan 5050', None), ('allan 5050', 'igopepra'), ('allan 5050', None), ('allan 5050', 'bsoo920'), ('bsoo920', 'bsoo920'), ('bsoo920', 'bsoo920'), ('allan 5050', 'David Gallagher'), ('mirtta_wu', None), ('mirtta_wu', 'JeffreyYau'), ('allan 5050', None), ('Sanatech69', None), ('bsoo920', None), ('allan 5050', None), ('Eva Tao', None), ('Eva Tao', 'Sanatech69'), ('Sanatech69', 'Shu-Yi'), ('Shu-Yi', 'Sanatech69'), ('Shu-Yi', 'Hari Danse'), ('Hari Danse', 'Shu-Yi'), ('Eva Tao', 'madihah shaik'), ('madihah shaik', 'madihah shaik'), ('Eva Tao', 'bmarroc'), ('bmarroc', 'Eva Tao'), ('madihah shaik', None), ('shivendr7', None), ('shivendr7', 'carlosogandomontas'), ('shivendr7', None), ('shivendr7', 'allan 5050'), ('antondairi', None), ('allan 5050', None), ('igopepra', None), ('Mori_Benjamin', None), ('Mori_Benjamin', None), ('Mori_Benjamin', 'antondairi'), ('bsoo920', None), ('khkiran01', None), ('Sanatech69', None), ('MariaMingallon', None), ('MariaMingallon', 'allan 5050'), ('allan 5050', 'MariaMingallon'), ('joannatrojak19', None), ('AmiraObeid', None), ('burricks', None), ('burricks', 'andersala'), ('andersala', 'antondairi'), ('burricks', 'allan 5050'), ('burricks', 'JeffreyYau'), ('JeffreyYau', 'igopepra'), ('igopepra', 'JeffreyYau'), ('JeffreyYau', 'ChandraSekharGhoshDastidar'), ('burricks', 'igopepra'), ('burricks', 'bsoo920'), ('SW26', None), ('Esteban_MC_92', None), ('kobra91', None), ('kobra91', 'DrJBW'), ('DrJBW', 'kobra91'), ('igopepra', None), ('igopepra', 'antondairi'), ('antondairi', 'igopepra'), ('igopepra', 'antondairi'), ('jmelotte', None), ('jmelotte', 'Shu-Yi'), ('fra_alessandromantini', None), ('dominguesn', None), ('dominguesn', 'antondairi'), ('bmontaner', None), ('bmontaner', 'antondairi'), ('antondairi', 'bmontaner'), ('bmontaner', 'antondairi'), ('antondairi', 'bmontaner'), ('bmontaner', 'antondairi'), ('allan 5050', None), ('mark_carew2', None), ('Seth_Silver', None), ('Seth_Silver', 'Levis91'), ('arturo_melo7fd4', None), ('arturo_melo7fd4', None), ('Abeer hmam', None), ('SW26', None), ('David Gallagher', None), ('allan 5050', None), ('jmelotte', None), ('jmelotte', 'jmelotte'), ('Esteban_MC_92', None), ('Sandra_Gomez1223', None), ('Sandra_Gomez1223', 'Sandra_Gomez1223'), ('bsoo920', None), ('antondairi', None), ('antondairi', None), ('antondairi', 'p_george'), ('p_george', 'antondairi'), ('antondairi', 'igopepra'), ('bsoo920', None), ('David Gallagher', None), ('igopepra', None), ('igopepra', 'AhmedMounem'), ('AhmedMounem', 'igopepra'), ('rrocy', None), ('rrocy', 'bsoo920'), ('antondairi', None), ('Eva Tao', None), ('David Gallagher', None), ('David Gallagher', 'David Gallagher'), ('David Gallagher', 'MariaMingallon'), ('ChandraSekharGhoshDastidar', None), ('ChandraSekharGhoshDastidar', 'Shu-Yi'), ('ChandraSekharGhoshDastidar', 'ChandraSekharGhoshDastidar'), ('ChandraSekharGhoshDastidar', None), ('ChandraSekharGhoshDastidar', 'Shu-Yi'), ('Ashvin', None), ('Ashvin', None), ('Ashvin', 'igopepra'), ('igopepra', 'Ashvin'), ('mark_carew2', None), ('igopepra', None), ('bsoo920', None), ('bsoo920', 'allan 5050'), ('allan 5050', 'bsoo920'), ('bsoo920', 'allan 5050'), ('allan 5050', None), ('allan 5050', 'allan 5050'), ('igopepra', None), ('igopepra', 'carlosogandomontas'), ('allan 5050', None), ('MariaMingallon', None), ('fer_goldbach', None), ('fer_goldbach', 'allan 5050'), ('allan 5050', 'fer_goldbach'), ('antondairi', None), ('antondairi', 'allan 5050'), ('allan 5050', 'allan 5050'), ('allan 5050', 'antondairi'), ('dolcidaniele', None), ('dblake417', None), ('GeorgeLee007', None), ('GeorgeLee007', 'Eva Tao'), ('MariaMingallon', None), ('MariaMingallon', 'MariaMingallon'), ('Samueltcchow', None), ('Samueltcchow', None), ('khushboo_choudhary', None), ('khushboo_choudhary', 'allan 5050'), ('allan 5050', None), ('bsoo920', None), ('bsoo920', 'bsoo920'), ('bsoo920', None), ('MariaMingallon', None), ('antondairi', None), ('antondairi', 'allan 5050'), ('antondairi', None), ('antondairi', 'allan 5050'), ('allan 5050', 'antondairi'), ('liao_sinying', None), ('RLZZ', None), ('dolcidaniele', None), ('dolcidaniele', 'antondairi'), ('dolcidaniele', 'PatrickMuradaz'), ('David Gallagher', None), ('David Gallagher', 'andersala'), ('Joowon', None), ('Joowon', 'p_george'), ('p_george', 'Joowon'), ('Joowon', 'PabloM92'), ('PabloM92', 'Eva Tao'), ('Eva Tao', 'igopepra'), ('igopepra', 'Eva Tao'), ('Eva Tao', 'igopepra'), ('igopepra', 'Eva Tao'), ('Joowon', 'bmarroc'), ('Joowon', 'burricks'), ('burricks', 'Adam'), ('Joowon', 'rrocy'), ('Joowon', 'MM123U'), ('MM123U', 'Eva Tao'), ('Eva Tao', 'MM123U'), ('Joowon', 'Zoudata'), ('Zoudata', 'Eva Tao'), ('Eva Tao', 'Zil Fang'), ('Joowon', 'Juan_M_Arias'), ('Joowon', 'donevm'), ('donevm', 'Eva Tao'), ('Eva Tao', None), ('Eva Tao', 'Berni89'), ('Eva Tao', 'Eva Tao'), ('Eva Tao', 'sukhyani143_2'), ('sukhyani143_2', 'Shu-Yi'), ('Eva Tao', 'Eva Tao'), ('Eva Tao', 'Shiv_om'), ('PabloM92', None), ('Esteban_MC_92', None), ('mpg5000', None), ('PabloM92', None), ('vidya__patil', None), ('mpg5000', None), ('Victolt', None), ('bsoo920', None), ('SW26', None), ('SW26', 'SW26'), ('SW26', 'Shu-Yi'), ('Shu-Yi', 'SW26'), ('SW26', 'Eva Tao'), ('Eva Tao', 'SW26'), ('SW26', 'SW26'), ('SW26', 'laurad4'), ('laurad4', 'SW26'), ('SW26', 'andersala'), ('laurad4', None), ('laurad4', 'Shu-Yi'), ('vidya__patil', None), ('MariaMingallon', None), ('MariaMingallon', 'liao_sinying'), ('Bala65', None), ('Bala65', 'SW26'), ('Bala65', 'Brian Lamb'), ('p_george', None), ('p_george', 'bsoo920'), ('bsoo920', 'p_george'), ('p_george', 'bsoo920'), ('ChandraSekharGhoshDastidar', None), ('neelraina420', None), ('neelraina420', 'neelraina420'), ('neelraina420', 'Nicolae'), ('Nicolae', 'neelraina420'), ('AhmedMounem', None), ('AhmedMounem', 'Shu-Yi'), ('Shu-Yi', 'AhmedMounem'), ('Sanatech69', None), ('p_george', None), ('Joowon', None), ('Joowon', 'vladkn'), ('vladkn', 'Joowon'), ('Joowon', 'carlosogandomontas'), ('carlosogandomontas', 'Joowon'), ('Joowon', 'Erik Reed'), ('Erik Reed', 'Joowon'), ('Joowon', 'Aia0ne'), ('Aia0ne', 'Joowon'), ('Joowon', 'MauricioAyllon'), ('MauricioAyllon', 'Joowon'), ('Joowon', 'Amgad Abdelaal'), ('Amgad Abdelaal', 'Joowon'), ('Joowon', 'timothy_d_daniel'), ('timothy_d_daniel', 'Shu-Yi'), ('Joowon', 'bsoo920'), ('bsoo920', 'Shu-Yi'), ('Shu-Yi', 'bsoo920'), ('bsoo920', 'Shu-Yi'), ('Joowon', 'p_george'), ('Joowon', 'allan 5050'), ('allan 5050', 'Shu-Yi'), ('Joowon', 'Shu-Yi'), ('Shu-Yi', 'Ortaps'), ('Ortaps', 'Shu-Yi'), ('Joowon', 'djeastley'), ('Joowon', 'Edmarcochan'), ('Joowon', 'MariaMingallon'), ('Joowon', 'MariaMingallon'), ('Joowon', 'Amgad Abdelaal'), ('Joowon', 'PatrickMuradaz'), ('PatrickMuradaz', 'MariaMingallon'), ('Joowon', 'Eda AYDIN'), ('RLZZ', None), ('RLZZ', 'p_george'), ('RLZZ', None), ('RLZZ', 'alpmpaksoy'), ('neelraina420', None), ('rajiv_k_mishra', None), ('rajiv_k_mishra', 'Shu-Yi'), ('carlosogandomontas', None), ('carlosogandomontas', 'Juan_M_Arias'), ('Juan_M_Arias', 'carlosogandomontas'), ('carlosogandomontas', 'rafacabmuch'), ('rafacabmuch', 'carlosogandomontas'), ('Mori_Benjamin', None), ('Mori_Benjamin', 'p_george'), ('p_george', 'Mori_Benjamin'), ('Mori_Benjamin', 'andersala'), ('Mori_Benjamin', None), ('Mori_Benjamin', 'p_george'), ('p_george', 'Mori_Benjamin'), ('Mori_Benjamin', 'Victolt'), ('Joberto', None), ('antondairi', None), ('pabloparrenolaporta', None), ('Shu-Yi', None), ('asratzan', None), ('shilpa9g', None), ('David Gallagher', None), ('David Gallagher', 'p_george'), ('p_george', 'David Gallagher'), ('David Gallagher', 'p_george'), ('David Gallagher', None), ('David Gallagher', 'fer_goldbach'), ('David Gallagher', 'victor_osorio_paris'), ('rafacabmuch', None), ('rafacabmuch', 'p_george'), ('David Gallagher', None), ('David Gallagher', 'p_george'), ('p_george', 'David Gallagher'), ('David Gallagher', None), ('David Gallagher', None), ('MauricioAyllon', None), ('Grigor22', None), ('Mori_Benjamin', None), ('Mori_Benjamin', None), ('Mori_Benjamin', 'p_george'), ('asratzan', None), ('asratzan', 'roshankrishnan'), ('roshankrishnan', 'asratzan'), ('RLZZ', None), ('PatrickMuradaz', None), ('MadMats', None), ('Flogabi', None), ('JulienVM', None), ('Esteban_MC_92', None), ('AIRudra', None), ('AIRudra', 'victor_osorio_paris'), ('AIRudra', 'MM123U'), ('Shiv_om', None), ('Shiv_om', 'Olumuy'), ('PabloM92', None), ('PabloM92', 'MM123U'), ('PabloM92', 'MM123U'), ('PabloM92', 'Victolt'), ('Diyaa31412', None), ('MM123U', None), ('MM123U', 'MM123U'), ('MM123U', None), ('MM123U', 'MM123U'), ('hvaghela116', None), ('hvaghela116', None), ('MariaMingallon', None), ('MariaMingallon', 'MariaMingallon'), ('PabloM92', None), ('PabloM92', 'Brian Lamb'), ('sa_hash', None), ('sa_hash', 'sa_hash'), ('liao_sinying', None), ('Mansitan', None), ('PabloM92', None), ('PabloM92', 'Shu-Yi'), ('aws110', None), ('aws110', 'Shu-Yi'), ('aws110', None), ('aws110', 'Shu-Yi'), ('Shiv_om', None), ('Shiv_om', 'Adam'), ('Zil Fang', None), ('Shu-Yi', None), ('Shu-Yi', 'PabloM92'), ('PabloM92', 'PabloM92'), ('PabloM92', 'donevm'), ('donevm', 'Shu-Yi'), ('hoangben', None), ('hoangben', 'Shu-Yi'), ('Shu-Yi', 'hoangben'), ('hoangben', 'Shu-Yi'), ('Shu-Yi', 'hoangben'), ('Darkking_ace', None), ('Shiv_om', None), ('Shiv_om', 'Brian Lamb'), ('MM123U', None), ('MM123U', 'Shu-Yi'), ('Shu-Yi', 'MM123U'), ('Eva Tao', None), ('Eva Tao', 'donevm'), ('donevm', 'Eva Tao'), ('Eva Tao', 'Juan_M_Arias'), ('Juan_M_Arias', 'Eva Tao'), ('Eva Tao', 'Juan_M_Arias'), ('Eva Tao', 'PabloM92'), ('PabloM92', '082751815'), ('082751815', 'Eva Tao'), ('Eva Tao', '082751815'), ('Eva Tao', 'Makho4ba7'), ('Makho4ba7', 'Shu-Yi'), ('Shu-Yi', 'Makho4ba7'), ('Makho4ba7', 'Shu-Yi'), ('Shu-Yi', 'mmarinwilcke'), ('Makho4ba7', 'Shu-Yi'), ('Eva Tao', 'donevm'), ('Eva Tao', 'Aia0ne'), ('Aia0ne', 'Eva Tao'), ('Eva Tao', 'Aia0ne'), ('Esteban_MC_92', None), ('Esteban_MC_92', 'vladkn'), ('bmarroc', None), ('PabloM92', None), ('PabloM92', None), ('PabloM92', 'Shu-Yi'), ('Shu-Yi', 'Naimul-Hasan'), ('Naimul-Hasan', 'Adam'), ('MM123U', None), ('Ortaps', None), ('Amgad Abdelaal', None), ('bsoo920', None), ('laurad4', None), ('igopepra', None), ('igopepra', 'Shu-Yi'), ('Shu-Yi', 'igopepra'), ('antondairi', None), ('igopepra', None), ('bsoo920', None), ('bsoo920', 'Shu-Yi'), ('Shu-Yi', 'bsoo920'), ('Hari Danse', None), ('fer_goldbach', None), ('fer_goldbach', 'Shu-Yi'), ('Mansitan', None), ('GeorgeLee007', None), ('GeorgeLee007', 'Shu-Yi'), ('Shu-Yi', 'GeorgeLee007'), ('GeorgeLee007', 'Shu-Yi'), ('Shu-Yi', 'GeorgeLee007'), ('GeorgeLee007', 'Shu-Yi'), ('fer_goldbach', None), ('1ruken_ims', None), ('camilomv17', None), ('Shiv_om', None), ('Shiv_om', 'Joowon'), ('Joowon', 'Shiv_om'), ('hvaghela116', None), ('hvaghela116', 'hvaghela116'), ('hvaghela116', 'Shu-Yi'), ('mmarinwilcke', None), ('debgamer64', None), ('burricks', None), ('burricks', '082751815'), ('Ortaps', None), ('Ortaps', 'Christiaan05')]\n"
     ]
    }
   ],
   "source": [
    "def read_comment(comment, result):\n",
    "    author = comment['user']['name']\n",
    "    \n",
    "    replies = comment['comments']\n",
    "    for reply in replies:\n",
    "        replier = reply['user']['name']\n",
    "        result.append((author, replier))\n",
    "        \n",
    "        read_comment(reply, result)\n",
    "\n",
    "from_to_list = []\n",
    "for discussion in discussions:\n",
    "    author = discussion['user']['name']\n",
    "    from_to_list.append((author, None))\n",
    "    read_comment(discussion, from_to_list)\n",
    "\n",
    "    \n",
    "print(from_to_list)\n",
    "\n",
    "\n",
    "            \n",
    "             \n",
    "        \n",
    "            \n",
    "            \n",
    "        \n",
    "        "
   ]
  },
  {
   "cell_type": "code",
   "execution_count": 66,
   "metadata": {},
   "outputs": [
    {
     "name": "stdout",
     "output_type": "stream",
     "text": [
      "     from             to\n",
      "0  Shu-Yi           None\n",
      "1  Shu-Yi           None\n",
      "2  Shu-Yi           None\n",
      "3  Shu-Yi           None\n",
      "4  Shu-Yi  tierneyjyoung\n"
     ]
    }
   ],
   "source": [
    "from_list = []\n",
    "to_list = []\n",
    "for pair in from_to_list:\n",
    "    from_list.append(pair[0])\n",
    "    to_list.append(pair[1])\n",
    "\n",
    "# print(from_list)\n",
    "# print(to_list)\n",
    "\n",
    "social_network_data_frame = pd.DataFrame(\n",
    "    {'from': from_list,\n",
    "     'to': to_list\n",
    "    })\n",
    "print(social_network_data_frame.head())"
   ]
  },
  {
   "cell_type": "code",
   "execution_count": null,
   "metadata": {},
   "outputs": [],
   "source": []
  }
 ],
 "metadata": {
  "kernelspec": {
   "display_name": "Python 3",
   "language": "python",
   "name": "python3"
  },
  "language_info": {
   "codemirror_mode": {
    "name": "ipython",
    "version": 3
   },
   "file_extension": ".py",
   "mimetype": "text/x-python",
   "name": "python",
   "nbconvert_exporter": "python",
   "pygments_lexer": "ipython3",
   "version": "3.8.3"
  }
 },
 "nbformat": 4,
 "nbformat_minor": 4
}
