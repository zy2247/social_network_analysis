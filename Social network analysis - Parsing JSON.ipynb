{
 "cells": [
  {
   "cell_type": "markdown",
   "metadata": {},
   "source": [
    "# Import text from the JSON file for SNA\n",
    "\n",
    "Go through all comments (and comments of comments) and convert each post into a row of the final dataframe."
   ]
  },
  {
   "cell_type": "code",
   "execution_count": 1,
   "metadata": {},
   "outputs": [],
   "source": [
    "# load libraries\n",
    "import json \n",
    "import pandas as pd"
   ]
  },
  {
   "cell_type": "code",
   "execution_count": 2,
   "metadata": {},
   "outputs": [],
   "source": [
    "# read json file\n",
    "\n",
    "with open(\"./CSMM101_3T2020_discussion_threads.json\") as f:\n",
    "    discussions = json.load(f)\n",
    "\n",
    "f.close()"
   ]
  },
  {
   "cell_type": "code",
   "execution_count": 3,
   "metadata": {},
   "outputs": [
    {
     "name": "stderr",
     "output_type": "stream",
     "text": [
      "<ipython-input-3-b65e58115d82>:58: SettingWithCopyWarning: \n",
      "A value is trying to be set on a copy of a slice from a DataFrame\n",
      "\n",
      "See the caveats in the documentation: https://pandas.pydata.org/pandas-docs/stable/user_guide/indexing.html#returning-a-view-versus-a-copy\n",
      "  output.iloc[-1]['user_from'] = replier\n",
      "<ipython-input-3-b65e58115d82>:59: SettingWithCopyWarning: \n",
      "A value is trying to be set on a copy of a slice from a DataFrame\n",
      "\n",
      "See the caveats in the documentation: https://pandas.pydata.org/pandas-docs/stable/user_guide/indexing.html#returning-a-view-versus-a-copy\n",
      "  output.iloc[-1]['user_from_role'] = replier_role\n",
      "<ipython-input-3-b65e58115d82>:71: SettingWithCopyWarning: \n",
      "A value is trying to be set on a copy of a slice from a DataFrame\n",
      "\n",
      "See the caveats in the documentation: https://pandas.pydata.org/pandas-docs/stable/user_guide/indexing.html#returning-a-view-versus-a-copy\n",
      "  output.iloc[-1]['user_from'] = replier\n",
      "<ipython-input-3-b65e58115d82>:72: SettingWithCopyWarning: \n",
      "A value is trying to be set on a copy of a slice from a DataFrame\n",
      "\n",
      "See the caveats in the documentation: https://pandas.pydata.org/pandas-docs/stable/user_guide/indexing.html#returning-a-view-versus-a-copy\n",
      "  output.iloc[-1]['user_from_role'] = replier_role\n"
     ]
    }
   ],
   "source": [
    "# read_comment is a recursive function to read all comments (and answers)\n",
    "def read_comment(comment, output, user_to_passed, post_type_passed):\n",
    "    # List of input vars\n",
    "    #   comment: dict type. the post (original post or its comment, including comment of comment) to be read.\n",
    "    #   output: dataframe type. output is a dataframe that treat each post (and comment) as a row.\n",
    "    #   user_to_passed: dict type, {'name', 'role'}.\n",
    "    #       to pass user information from upper level post (comment) to next level.\n",
    "    #   post_type_passed: str type. similar to user_to_passed, but to pass post type.\n",
    "\n",
    "    # read post author of the current level post\n",
    "    author = comment['user']['name']\n",
    "    author_role = comment['user']['role']\n",
    "\n",
    "    # create user info dict to pass to next level\n",
    "    user_to = {'name': None, 'role': None}\n",
    "\n",
    "    # Inherit post information from the record (row) above.\n",
    "    # Because comments usually do not have 'type', 'title', 'category', 'subcategory', or 'private'\n",
    "    for elem in df_col_names[0:-6] :\n",
    "        if elem not in comment :\n",
    "            #print(\"elem not in list\")\n",
    "            #print(len(output))\n",
    "            comment[elem] = output.iloc[-1][elem]\n",
    "\n",
    "    # If comments exist, author info will be passed to next level posts as user_to.\n",
    "    if comment['comments'] : # comments is not empty\n",
    "        user_to['name'] = author\n",
    "        user_to['role'] = author_role\n",
    "    else : # comments is empty\n",
    "        user_to['name'] = None\n",
    "        user_to['role'] = None\n",
    "\n",
    "    # Answers will be marked as answer type.\n",
    "    if post_type_passed == 'answer' :\n",
    "        comment['type'] = post_type_passed\n",
    "\n",
    "    # Add new record to existing output dataframe.\n",
    "    # Each new record (row) contains all information related to the post.\n",
    "    output = output.append({'url': comment['url'],\n",
    "                    'type': comment['type'],\n",
    "                    'title': comment['title'],\n",
    "                    'category': comment['category'],\n",
    "                    'subcategory': comment['subcategory'],\n",
    "                    'votes': comment['votes'],\n",
    "                    'private': comment['private'],\n",
    "                    'created_at': comment['created_at'],\n",
    "                    'text': comment['text'],\n",
    "                    'user_from': author,\n",
    "                    'user_from_role': author_role,\n",
    "                    'user_to': user_to_passed['name'],\n",
    "                    'user_to_role': user_to_passed['role']}, ignore_index=True)\n",
    "\n",
    "    # Go over all comments/answers\n",
    "    replies = comment['comments']\n",
    "    for reply in replies:\n",
    "        replier = reply['user']['name']\n",
    "        replier_role = reply['user']['role']\n",
    "        output.iloc[-1]['user_from'] = replier\n",
    "        output.iloc[-1]['user_from_role'] = replier_role\n",
    "        \n",
    "        # recursive part\n",
    "        output = read_comment(reply, output, user_to, None)\n",
    "\n",
    "    if 'answers' in comment :\n",
    "        answers = comment['answers']\n",
    "        user_to['name'] = author\n",
    "        user_to['role'] = author_role\n",
    "        for answer in answers:\n",
    "            replier = answer['user']['name']\n",
    "            replier_role = answer['user']['role']\n",
    "            output.iloc[-1]['user_from'] = replier\n",
    "            output.iloc[-1]['user_from_role'] = replier_role\n",
    "            output = read_comment(answer, output, user_to, 'answer')\n",
    "\n",
    "    return output\n",
    "\n",
    "# Create a dataframe (df_SNA) to store data for every post, comment, and answer.\n",
    "df_col_names = [str(element) for element in list(discussions[0].keys())]\n",
    "df_col_names += ['user_from']\n",
    "df_col_names += ['user_from_role']\n",
    "df_col_names += ['user_to']\n",
    "df_col_names += ['user_to_role']\n",
    "df_col_names.remove('user')\n",
    "df_col_names.remove('document')\n",
    "df_col_names.remove('comments')\n",
    "\n",
    "result = pd.DataFrame([], columns = df_col_names)\n",
    "\n",
    "for discussion in discussions:\n",
    "    user = {'name': None, 'role': None}\n",
    "    result = read_comment(discussion, result, user, None)"
   ]
  },
  {
   "cell_type": "code",
   "execution_count": 4,
   "outputs": [],
   "source": [
    "# Create thread_id based on url.\n",
    "result['thread_id'] = result['url']\n",
    "result['thread_id'] = result['url'].str.split(\"?\").str.get(0).str.split(\"courses/\").str.get(1)\n",
    "\n",
    "# Save to csv file.\n",
    "result.to_csv(\"./flatten_json.csv\", sep=',', index=False)"
   ],
   "metadata": {
    "collapsed": false,
    "pycharm": {
     "name": "#%%\n"
    }
   }
  },
  {
   "cell_type": "code",
   "execution_count": null,
   "outputs": [],
   "source": [],
   "metadata": {
    "collapsed": false,
    "pycharm": {
     "name": "#%%\n"
    }
   }
  }
 ],
 "metadata": {
  "kernelspec": {
   "display_name": "Python 3",
   "language": "python",
   "name": "python3"
  },
  "language_info": {
   "codemirror_mode": {
    "name": "ipython",
    "version": 3
   },
   "file_extension": ".py",
   "mimetype": "text/x-python",
   "name": "python",
   "nbconvert_exporter": "python",
   "pygments_lexer": "ipython3",
   "version": "3.8.5"
  }
 },
 "nbformat": 4,
 "nbformat_minor": 4
}