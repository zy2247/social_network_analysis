{
 "cells": [
  {
   "cell_type": "markdown",
   "metadata": {},
   "source": [
    "# Import text from the JSON file"
   ]
  },
  {
   "cell_type": "code",
   "execution_count": 1,
   "metadata": {},
   "outputs": [],
   "source": [
    "import json \n",
    "import pandas as pd"
   ]
  },
  {
   "cell_type": "code",
   "execution_count": 2,
   "metadata": {},
   "outputs": [],
   "source": [
    "with open(\"./CSMM101_3T2020_discussion_threads.json\") as f:\n",
    "    discussions = json.load(f)"
   ]
  },
  {
   "cell_type": "code",
   "execution_count": 6,
   "metadata": {},
   "outputs": [],
   "source": [
    "def read_comment(comment, result):\n",
    "    author = comment['user']['name']\n",
    "    \n",
    "    replies = comment['comments']\n",
    "    for reply in replies:\n",
    "        replier = reply['user']['name']\n",
    "        url = reply['url']\n",
    "        result.append((author, replier, url))\n",
    "        \n",
    "        read_comment(reply, result)\n",
    "\n",
    "from_to_list = []\n",
    "for discussion in discussions:\n",
    "    author = discussion['user']['name']\n",
    "    from_to_list.append((author, None))\n",
    "    read_comment(discussion, from_to_list)\n",
    "\n",
    "    \n",
    "#print(from_to_list)"
   ]
  },
  {
   "cell_type": "code",
   "execution_count": 6,
   "metadata": {},
   "outputs": [],
   "source": [
    "from_list = []\n",
    "to_list = []\n",
    "for pair in from_to_list:\n",
    "    from_list.append(pair[0])\n",
    "    to_list.append(pair[1])\n",
    "\n",
    "# print(from_list)\n",
    "# print(to_list)\n",
    "\n",
    "social_network_data_frame = pd.DataFrame(\n",
    "    {'from': from_list,\n",
    "     'to': to_list\n",
    "    })\n",
    "#print(social_network_data_frame.head())"
   ]
  },
  {
   "cell_type": "code",
   "execution_count": 7,
   "metadata": {},
   "outputs": [
    {
     "data": {
      "text/html": [
       "<div>\n",
       "<style scoped>\n",
       "    .dataframe tbody tr th:only-of-type {\n",
       "        vertical-align: middle;\n",
       "    }\n",
       "\n",
       "    .dataframe tbody tr th {\n",
       "        vertical-align: top;\n",
       "    }\n",
       "\n",
       "    .dataframe thead th {\n",
       "        text-align: right;\n",
       "    }\n",
       "</style>\n",
       "<table border=\"1\" class=\"dataframe\">\n",
       "  <thead>\n",
       "    <tr style=\"text-align: right;\">\n",
       "      <th></th>\n",
       "      <th>from</th>\n",
       "      <th>to</th>\n",
       "    </tr>\n",
       "  </thead>\n",
       "  <tbody>\n",
       "    <tr>\n",
       "      <th>0</th>\n",
       "      <td>Shu-Yi</td>\n",
       "      <td>None</td>\n",
       "    </tr>\n",
       "    <tr>\n",
       "      <th>1</th>\n",
       "      <td>Shu-Yi</td>\n",
       "      <td>None</td>\n",
       "    </tr>\n",
       "    <tr>\n",
       "      <th>2</th>\n",
       "      <td>Shu-Yi</td>\n",
       "      <td>None</td>\n",
       "    </tr>\n",
       "    <tr>\n",
       "      <th>3</th>\n",
       "      <td>Shu-Yi</td>\n",
       "      <td>None</td>\n",
       "    </tr>\n",
       "    <tr>\n",
       "      <th>4</th>\n",
       "      <td>Shu-Yi</td>\n",
       "      <td>tierneyjyoung</td>\n",
       "    </tr>\n",
       "    <tr>\n",
       "      <th>...</th>\n",
       "      <td>...</td>\n",
       "      <td>...</td>\n",
       "    </tr>\n",
       "    <tr>\n",
       "      <th>918</th>\n",
       "      <td>debgamer64</td>\n",
       "      <td>None</td>\n",
       "    </tr>\n",
       "    <tr>\n",
       "      <th>919</th>\n",
       "      <td>burricks</td>\n",
       "      <td>None</td>\n",
       "    </tr>\n",
       "    <tr>\n",
       "      <th>920</th>\n",
       "      <td>burricks</td>\n",
       "      <td>082751815</td>\n",
       "    </tr>\n",
       "    <tr>\n",
       "      <th>921</th>\n",
       "      <td>Ortaps</td>\n",
       "      <td>None</td>\n",
       "    </tr>\n",
       "    <tr>\n",
       "      <th>922</th>\n",
       "      <td>Ortaps</td>\n",
       "      <td>Christiaan05</td>\n",
       "    </tr>\n",
       "  </tbody>\n",
       "</table>\n",
       "<p>923 rows × 2 columns</p>\n",
       "</div>"
      ],
      "text/plain": [
       "           from             to\n",
       "0        Shu-Yi           None\n",
       "1        Shu-Yi           None\n",
       "2        Shu-Yi           None\n",
       "3        Shu-Yi           None\n",
       "4        Shu-Yi  tierneyjyoung\n",
       "..          ...            ...\n",
       "918  debgamer64           None\n",
       "919    burricks           None\n",
       "920    burricks      082751815\n",
       "921      Ortaps           None\n",
       "922      Ortaps   Christiaan05\n",
       "\n",
       "[923 rows x 2 columns]"
      ]
     },
     "execution_count": 7,
     "metadata": {},
     "output_type": "execute_result"
    }
   ],
   "source": [
    "social_network_data_frame"
   ]
  },
  {
   "cell_type": "code",
   "execution_count": null,
   "metadata": {},
   "outputs": [],
   "source": []
  }
 ],
 "metadata": {
  "kernelspec": {
   "display_name": "Python 3",
   "language": "python",
   "name": "python3"
  },
  "language_info": {
   "codemirror_mode": {
    "name": "ipython",
    "version": 3
   },
   "file_extension": ".py",
   "mimetype": "text/x-python",
   "name": "python",
   "nbconvert_exporter": "python",
   "pygments_lexer": "ipython3",
   "version": "3.8.5"
  }
 },
 "nbformat": 4,
 "nbformat_minor": 4
}