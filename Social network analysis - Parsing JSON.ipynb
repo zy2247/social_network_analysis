{
 "cells": [
  {
   "cell_type": "markdown",
   "metadata": {},
   "source": [
    "# Import text from the JSON file"
   ]
  },
  {
   "cell_type": "code",
   "execution_count": 67,
   "metadata": {},
   "outputs": [],
   "source": [
    "import json \n",
    "import pandas as pd"
   ]
  },
  {
   "cell_type": "code",
   "execution_count": 70,
   "metadata": {},
   "outputs": [],
   "source": [
    "with open(\"your own JSON file path\") as f:\n",
    "    discussions = json.load(f)"
   ]
  },
  {
   "cell_type": "code",
   "execution_count": 71,
   "metadata": {},
   "outputs": [],
   "source": [
    "def read_comment(comment, result):\n",
    "    author = comment['user']['name']\n",
    "    \n",
    "    replies = comment['comments']\n",
    "    for reply in replies:\n",
    "        replier = reply['user']['name']\n",
    "        result.append((author, replier))\n",
    "        \n",
    "        read_comment(reply, result)\n",
    "\n",
    "from_to_list = []\n",
    "for discussion in discussions:\n",
    "    author = discussion['user']['name']\n",
    "    from_to_list.append((author, None))\n",
    "    read_comment(discussion, from_to_list)\n",
    "\n",
    "    \n",
    "#print(from_to_list)\n",
    "\n",
    "\n",
    "            \n",
    "             \n",
    "        \n",
    "            \n",
    "            \n",
    "        \n",
    "        "
   ]
  },
  {
   "cell_type": "code",
   "execution_count": 72,
   "metadata": {},
   "outputs": [],
   "source": [
    "from_list = []\n",
    "to_list = []\n",
    "for pair in from_to_list:\n",
    "    from_list.append(pair[0])\n",
    "    to_list.append(pair[1])\n",
    "\n",
    "# print(from_list)\n",
    "# print(to_list)\n",
    "\n",
    "social_network_data_frame = pd.DataFrame(\n",
    "    {'from': from_list,\n",
    "     'to': to_list\n",
    "    })\n",
    "#print(social_network_data_frame.head())"
   ]
  },
  {
   "cell_type": "code",
   "execution_count": null,
   "metadata": {},
   "outputs": [],
   "source": []
  }
 ],
 "metadata": {
  "kernelspec": {
   "display_name": "Python 3",
   "language": "python",
   "name": "python3"
  },
  "language_info": {
   "codemirror_mode": {
    "name": "ipython",
    "version": 3
   },
   "file_extension": ".py",
   "mimetype": "text/x-python",
   "name": "python",
   "nbconvert_exporter": "python",
   "pygments_lexer": "ipython3",
   "version": "3.8.3"
  }
 },
 "nbformat": 4,
 "nbformat_minor": 4
}
